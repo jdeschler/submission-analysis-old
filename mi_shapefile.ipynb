{
 "cells": [
  {
   "cell_type": "code",
   "execution_count": null,
   "id": "38b04455",
   "metadata": {},
   "outputs": [],
   "source": [
    "import coi_maps\n",
    "import fetch\n",
    "import geopandas as gpd"
   ]
  },
  {
   "cell_type": "code",
   "execution_count": null,
   "id": "1dabbaab",
   "metadata": {},
   "outputs": [],
   "source": [
    "# pull csv down from endpoints\n",
    "ids = \"https://o1siz7rw0c.execute-api.us-east-2.amazonaws.com/beta/submissions/districtr-ids/michigan\"\n",
    "csv_url = \"https://o1siz7rw0c.execute-api.us-east-2.amazonaws.com/beta/submissions/csv/michigan\"\n",
    "plan = csv_url + \"?type=plan&length=10000\"\n",
    "cois = csv_url + \"?type=coi&length=10000\"\n",
    "written = csv_url + \"?type=written&length=10000\"\n",
    "\n",
    "_, coi_df, _ = fetch.submissions(ids, plan, cois, written)"
   ]
  },
  {
   "cell_type": "code",
   "execution_count": null,
   "id": "c4990433",
   "metadata": {},
   "outputs": [],
   "source": [
    "cois = coi_maps.assignment_to_shape(coi_df)"
   ]
  },
  {
   "cell_type": "code",
   "execution_count": null,
   "id": "b7e6859c",
   "metadata": {},
   "outputs": [],
   "source": [
    "cois.head()"
   ]
  },
  {
   "cell_type": "code",
   "execution_count": null,
   "id": "4e951406",
   "metadata": {},
   "outputs": [],
   "source": [
    "len(set(cois['id']))"
   ]
  },
  {
   "cell_type": "code",
   "execution_count": null,
   "id": "c28b2ee6",
   "metadata": {},
   "outputs": [],
   "source": [
    "dissolved = cois.dissolve('id')"
   ]
  },
  {
   "cell_type": "code",
   "execution_count": null,
   "id": "91f4ec36",
   "metadata": {},
   "outputs": [],
   "source": [
    "dissolved.boundary.plot()"
   ]
  },
  {
   "cell_type": "code",
   "execution_count": null,
   "id": "79c62c40",
   "metadata": {},
   "outputs": [],
   "source": [
    "dissolved = dissolved.drop('tile_id', axis = 1)\n",
    "outfile = \"../Michigan/mi_cois.shp\"\n",
    "dissolved.to_file(outfile)"
   ]
  },
  {
   "cell_type": "code",
   "execution_count": null,
   "id": "19d8d67a",
   "metadata": {},
   "outputs": [],
   "source": [
    "dissolved.head()"
   ]
  },
  {
   "cell_type": "code",
   "execution_count": null,
   "id": "5149d592",
   "metadata": {},
   "outputs": [],
   "source": [
    "len(dissolved)"
   ]
  },
  {
   "cell_type": "code",
   "execution_count": null,
   "id": "b47c8478",
   "metadata": {},
   "outputs": [],
   "source": []
  }
 ],
 "metadata": {
  "kernelspec": {
   "display_name": "Python 3",
   "language": "python",
   "name": "python3"
  },
  "language_info": {
   "codemirror_mode": {
    "name": "ipython",
    "version": 3
   },
   "file_extension": ".py",
   "mimetype": "text/x-python",
   "name": "python",
   "nbconvert_exporter": "python",
   "pygments_lexer": "ipython3",
   "version": "3.9.1"
  }
 },
 "nbformat": 4,
 "nbformat_minor": 5
}
